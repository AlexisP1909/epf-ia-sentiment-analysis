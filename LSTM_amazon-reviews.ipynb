{
 "cells": [
  {
   "cell_type": "code",
   "execution_count": 1,
   "id": "dd071081",
   "metadata": {
    "_cell_guid": "b1076dfc-b9ad-4769-8c92-a6c4dae69d19",
    "_uuid": "8f2839f25d086af736a60e9eeb907d3b93b6e0e5",
    "execution": {
     "iopub.execute_input": "2024-12-13T00:03:21.355269Z",
     "iopub.status.busy": "2024-12-13T00:03:21.354837Z",
     "iopub.status.idle": "2024-12-13T00:03:22.353036Z",
     "shell.execute_reply": "2024-12-13T00:03:22.351830Z"
    },
    "papermill": {
     "duration": 1.012398,
     "end_time": "2024-12-13T00:03:22.355475",
     "exception": false,
     "start_time": "2024-12-13T00:03:21.343077",
     "status": "completed"
    },
    "tags": []
   },
   "outputs": [],
   "source": [
    "# This Python 3 environment comes with many helpful analytics libraries installed\n",
    "# It is defined by the kaggle/python Docker image: https://github.com/kaggle/docker-python\n",
    "# For example, here's several helpful packages to load\n",
    "\n",
    "import numpy as np # linear algebra\n",
    "import pandas as pd # data processing, CSV file I/O (e.g. pd.read_csv)\n",
    "\n",
    "# Input data files are available in the read-only \"../input/\" directory\n",
    "# For example, running this (by clicking run or pressing Shift+Enter) will list all files under the input directory\n",
    "\n",
    "import os\n",
    "for dirname, _, filenames in os.walk('/kaggle/input'):\n",
    "    for filename in filenames:\n",
    "        print(os.path.join(dirname, filename))\n",
    "\n",
    "# You can write up to 20GB to the current directory (/kaggle/working/) that gets preserved as output when you create a version using \"Save & Run All\" \n",
    "# You can also write temporary files to /kaggle/temp/, but they won't be saved outside of the current session"
   ]
  },
  {
   "cell_type": "code",
   "execution_count": null,
   "id": "5dc5c59c",
   "metadata": {},
   "outputs": [],
   "source": [
    "import kagglehub\n",
    "import os\n",
    "import shutil\n",
    "path = kagglehub.dataset_download(\"bittlingmayer/amazonreviews\")\n",
    "print(\"Chemin de l'archive téléchargée :\", path)\n",
    "\n",
    "# Dossier de destination pour déplacer l'archive\n",
    "destination_dir = \"./amazonreviews_dataset\"\n",
    "os.makedirs(destination_dir, exist_ok=True)\n",
    "\n",
    "# Chemin complet de l'archive dans le dossier de destination\n",
    "# Récupère le nom de l'archive (ex: \"archive.zip\")\n",
    "archive_name = os.path.basename(path)\n",
    "new_archive_path = os.path.join(destination_dir, archive_name)\n",
    "\n",
    "# Déplacer l'archive vers le dossier de destination\n",
    "shutil.move(path, new_archive_path)\n",
    "print(f\"Archive déplacée vers : {new_archive_path}\")\n",
    "\n",
    "# Dossier pour extraire l'archive\n",
    "extract_dir = os.path.join(destination_dir, \"amazonreviews\")\n",
    "os.makedirs(extract_dir, exist_ok=True)\n",
    "print(f\"Archive extraite dans : {extract_dir}\")"
   ]
  },
  {
   "cell_type": "code",
   "execution_count": 2,
   "id": "8ab198d6",
   "metadata": {
    "execution": {
     "iopub.execute_input": "2024-12-13T00:03:22.376515Z",
     "iopub.status.busy": "2024-12-13T00:03:22.375360Z",
     "iopub.status.idle": "2024-12-13T00:03:39.609402Z",
     "shell.execute_reply": "2024-12-13T00:03:39.608332Z"
    },
    "papermill": {
     "duration": 17.246262,
     "end_time": "2024-12-13T00:03:39.611761",
     "exception": false,
     "start_time": "2024-12-13T00:03:22.365499",
     "status": "completed"
    },
    "tags": []
   },
   "outputs": [],
   "source": [
    "\n",
    "import nltk\n",
    "import numpy as np\n",
    "import pandas as pd\n",
    "import matplotlib.pyplot as plt\n",
    "import seaborn as sns\n",
    "import re\n",
    "from nltk.stem import PorterStemmer\n",
    "from nltk.corpus import stopwords\n",
    "import tensorflow as tf\n",
    "from tensorflow.keras import utils\n",
    "from sklearn.model_selection import train_test_split\n",
    "from tensorflow.keras.models import Sequential\n",
    "from tensorflow.keras.layers import Embedding, LSTM, Dense, Dropout\n",
    "from tensorflow.keras.preprocessing.text import Tokenizer\n",
    "from tensorflow.keras.preprocessing.sequence import pad_sequences\n",
    "from tensorflow.keras.callbacks import EarlyStopping, ModelCheckpoint, ReduceLROnPlateau\n",
    "from tensorflow.keras.optimizers import Adam\n",
    "from sklearn.metrics import classification_report, confusion_matrix"
   ]
  },
  {
   "cell_type": "markdown",
   "id": "693b2b3c",
   "metadata": {
    "papermill": {
     "duration": 0.008263,
     "end_time": "2024-12-13T00:03:39.628806",
     "exception": false,
     "start_time": "2024-12-13T00:03:39.620543",
     "status": "completed"
    },
    "tags": []
   },
   "source": [
    "# Loading Data"
   ]
  },
  {
   "cell_type": "code",
   "execution_count": 3,
   "id": "0feeeecc",
   "metadata": {
    "execution": {
     "iopub.execute_input": "2024-12-13T00:03:39.648068Z",
     "iopub.status.busy": "2024-12-13T00:03:39.647387Z",
     "iopub.status.idle": "2024-12-13T00:06:27.163519Z",
     "shell.execute_reply": "2024-12-13T00:06:27.162446Z"
    },
    "papermill": {
     "duration": 167.528973,
     "end_time": "2024-12-13T00:06:27.166445",
     "exception": false,
     "start_time": "2024-12-13T00:03:39.637472",
     "status": "completed"
    },
    "tags": []
   },
   "outputs": [],
   "source": [
    "train_data = pd.read_csv('./amazonreviews_dataset/7/train.ft.txt.bz2',\n",
    "                         delimiter='\\t',compression='bz2',header=None)"
   ]
  },
  {
   "cell_type": "code",
   "execution_count": 4,
   "id": "f11e38e6",
   "metadata": {
    "execution": {
     "iopub.execute_input": "2024-12-13T00:06:27.186050Z",
     "iopub.status.busy": "2024-12-13T00:06:27.185223Z",
     "iopub.status.idle": "2024-12-13T00:06:45.677058Z",
     "shell.execute_reply": "2024-12-13T00:06:45.675844Z"
    },
    "papermill": {
     "duration": 18.50401,
     "end_time": "2024-12-13T00:06:45.679383",
     "exception": false,
     "start_time": "2024-12-13T00:06:27.175373",
     "status": "completed"
    },
    "tags": []
   },
   "outputs": [
    {
     "data": {
      "text/html": [
       "<div>\n",
       "<style scoped>\n",
       "    .dataframe tbody tr th:only-of-type {\n",
       "        vertical-align: middle;\n",
       "    }\n",
       "\n",
       "    .dataframe tbody tr th {\n",
       "        vertical-align: top;\n",
       "    }\n",
       "\n",
       "    .dataframe thead th {\n",
       "        text-align: right;\n",
       "    }\n",
       "</style>\n",
       "<table border=\"1\" class=\"dataframe\">\n",
       "  <thead>\n",
       "    <tr style=\"text-align: right;\">\n",
       "      <th></th>\n",
       "      <th>0</th>\n",
       "    </tr>\n",
       "  </thead>\n",
       "  <tbody>\n",
       "    <tr>\n",
       "      <th>0</th>\n",
       "      <td>__label__2 Great CD: My lovely Pat has one of ...</td>\n",
       "    </tr>\n",
       "    <tr>\n",
       "      <th>1</th>\n",
       "      <td>__label__2 One of the best game music soundtra...</td>\n",
       "    </tr>\n",
       "    <tr>\n",
       "      <th>2</th>\n",
       "      <td>__label__1 Batteries died within a year ...: I...</td>\n",
       "    </tr>\n",
       "    <tr>\n",
       "      <th>3</th>\n",
       "      <td>__label__2 works fine, but Maha Energy is bett...</td>\n",
       "    </tr>\n",
       "    <tr>\n",
       "      <th>4</th>\n",
       "      <td>__label__2 Great for the non-audiophile: Revie...</td>\n",
       "    </tr>\n",
       "  </tbody>\n",
       "</table>\n",
       "</div>"
      ],
      "text/plain": [
       "                                                   0\n",
       "0  __label__2 Great CD: My lovely Pat has one of ...\n",
       "1  __label__2 One of the best game music soundtra...\n",
       "2  __label__1 Batteries died within a year ...: I...\n",
       "3  __label__2 works fine, but Maha Energy is bett...\n",
       "4  __label__2 Great for the non-audiophile: Revie..."
      ]
     },
     "execution_count": 4,
     "metadata": {},
     "output_type": "execute_result"
    }
   ],
   "source": [
    "test_data = pd.read_csv('./amazonreviews_dataset/7/test.ft.txt.bz2', \n",
    "                        delimiter='\\t',compression='bz2',header=None)\n",
    "test_data.head()"
   ]
  },
  {
   "cell_type": "code",
   "execution_count": 5,
   "id": "7413e348",
   "metadata": {
    "execution": {
     "iopub.execute_input": "2024-12-13T00:06:45.698377Z",
     "iopub.status.busy": "2024-12-13T00:06:45.697986Z",
     "iopub.status.idle": "2024-12-13T00:06:45.707680Z",
     "shell.execute_reply": "2024-12-13T00:06:45.706396Z"
    },
    "papermill": {
     "duration": 0.021709,
     "end_time": "2024-12-13T00:06:45.709898",
     "exception": false,
     "start_time": "2024-12-13T00:06:45.688189",
     "status": "completed"
    },
    "tags": []
   },
   "outputs": [
    {
     "data": {
      "text/html": [
       "<div>\n",
       "<style scoped>\n",
       "    .dataframe tbody tr th:only-of-type {\n",
       "        vertical-align: middle;\n",
       "    }\n",
       "\n",
       "    .dataframe tbody tr th {\n",
       "        vertical-align: top;\n",
       "    }\n",
       "\n",
       "    .dataframe thead th {\n",
       "        text-align: right;\n",
       "    }\n",
       "</style>\n",
       "<table border=\"1\" class=\"dataframe\">\n",
       "  <thead>\n",
       "    <tr style=\"text-align: right;\">\n",
       "      <th></th>\n",
       "      <th>0</th>\n",
       "    </tr>\n",
       "  </thead>\n",
       "  <tbody>\n",
       "    <tr>\n",
       "      <th>0</th>\n",
       "      <td>__label__2 Stuning even for the non-gamer: Thi...</td>\n",
       "    </tr>\n",
       "    <tr>\n",
       "      <th>1</th>\n",
       "      <td>__label__2 The best soundtrack ever to anythin...</td>\n",
       "    </tr>\n",
       "    <tr>\n",
       "      <th>2</th>\n",
       "      <td>__label__2 Amazing!: This soundtrack is my fav...</td>\n",
       "    </tr>\n",
       "    <tr>\n",
       "      <th>3</th>\n",
       "      <td>__label__2 Excellent Soundtrack: I truly like ...</td>\n",
       "    </tr>\n",
       "    <tr>\n",
       "      <th>4</th>\n",
       "      <td>__label__2 Remember, Pull Your Jaw Off The Flo...</td>\n",
       "    </tr>\n",
       "  </tbody>\n",
       "</table>\n",
       "</div>"
      ],
      "text/plain": [
       "                                                   0\n",
       "0  __label__2 Stuning even for the non-gamer: Thi...\n",
       "1  __label__2 The best soundtrack ever to anythin...\n",
       "2  __label__2 Amazing!: This soundtrack is my fav...\n",
       "3  __label__2 Excellent Soundtrack: I truly like ...\n",
       "4  __label__2 Remember, Pull Your Jaw Off The Flo..."
      ]
     },
     "execution_count": 5,
     "metadata": {},
     "output_type": "execute_result"
    }
   ],
   "source": [
    "train_data.head()"
   ]
  },
  {
   "cell_type": "code",
   "execution_count": 6,
   "id": "431b21b8",
   "metadata": {
    "execution": {
     "iopub.execute_input": "2024-12-13T00:06:45.729619Z",
     "iopub.status.busy": "2024-12-13T00:06:45.729186Z",
     "iopub.status.idle": "2024-12-13T00:06:45.734989Z",
     "shell.execute_reply": "2024-12-13T00:06:45.733783Z"
    },
    "papermill": {
     "duration": 0.018319,
     "end_time": "2024-12-13T00:06:45.737200",
     "exception": false,
     "start_time": "2024-12-13T00:06:45.718881",
     "status": "completed"
    },
    "tags": []
   },
   "outputs": [],
   "source": [
    "def extract_labl(data):\n",
    "    label=[]\n",
    "    for i in data[0]:\n",
    "        labl=i.split()[0]\n",
    "        label.append(int(labl.replace(\"__label__\", \"\")))\n",
    "    return label"
   ]
  },
  {
   "cell_type": "markdown",
   "id": "42c82082",
   "metadata": {
    "papermill": {
     "duration": 0.008419,
     "end_time": "2024-12-13T00:06:45.754587",
     "exception": false,
     "start_time": "2024-12-13T00:06:45.746168",
     "status": "completed"
    },
    "tags": []
   },
   "source": [
    "## Label Extraction"
   ]
  },
  {
   "cell_type": "code",
   "execution_count": 7,
   "id": "b51a4751",
   "metadata": {
    "execution": {
     "iopub.execute_input": "2024-12-13T00:06:45.774273Z",
     "iopub.status.busy": "2024-12-13T00:06:45.773177Z",
     "iopub.status.idle": "2024-12-13T00:06:47.903139Z",
     "shell.execute_reply": "2024-12-13T00:06:47.902037Z"
    },
    "papermill": {
     "duration": 2.142313,
     "end_time": "2024-12-13T00:06:47.905496",
     "exception": false,
     "start_time": "2024-12-13T00:06:45.763183",
     "status": "completed"
    },
    "tags": []
   },
   "outputs": [
    {
     "data": {
      "text/plain": [
       "0    2\n",
       "1    2\n",
       "2    1\n",
       "3    2\n",
       "4    2\n",
       "Name: label, dtype: int64"
      ]
     },
     "execution_count": 7,
     "metadata": {},
     "output_type": "execute_result"
    }
   ],
   "source": [
    "test_data['label']=pd.Series(extract_labl(test_data))\n",
    "test_data['label'].head()"
   ]
  },
  {
   "cell_type": "code",
   "execution_count": 8,
   "id": "dff51f62",
   "metadata": {
    "execution": {
     "iopub.execute_input": "2024-12-13T00:06:47.924915Z",
     "iopub.status.busy": "2024-12-13T00:06:47.924541Z",
     "iopub.status.idle": "2024-12-13T00:07:07.107137Z",
     "shell.execute_reply": "2024-12-13T00:07:07.106053Z"
    },
    "papermill": {
     "duration": 19.195279,
     "end_time": "2024-12-13T00:07:07.109744",
     "exception": false,
     "start_time": "2024-12-13T00:06:47.914465",
     "status": "completed"
    },
    "tags": []
   },
   "outputs": [
    {
     "data": {
      "text/plain": [
       "0    2\n",
       "1    2\n",
       "2    2\n",
       "3    2\n",
       "4    2\n",
       "Name: label, dtype: int64"
      ]
     },
     "execution_count": 8,
     "metadata": {},
     "output_type": "execute_result"
    }
   ],
   "source": [
    "train_data['label']=pd.Series(extract_labl(train_data))\n",
    "train_data['label'].head()"
   ]
  },
  {
   "cell_type": "code",
   "execution_count": 9,
   "id": "1be613d1",
   "metadata": {
    "execution": {
     "iopub.execute_input": "2024-12-13T00:07:07.130149Z",
     "iopub.status.busy": "2024-12-13T00:07:07.129747Z",
     "iopub.status.idle": "2024-12-13T00:07:34.375997Z",
     "shell.execute_reply": "2024-12-13T00:07:34.374977Z"
    },
    "papermill": {
     "duration": 27.259361,
     "end_time": "2024-12-13T00:07:34.378536",
     "exception": false,
     "start_time": "2024-12-13T00:07:07.119175",
     "status": "completed"
    },
    "tags": []
   },
   "outputs": [],
   "source": [
    "\n",
    "train_data[0] = train_data[0].map(lambda x: \" \".join(x.split()[1:]))\n"
   ]
  },
  {
   "cell_type": "code",
   "execution_count": 10,
   "id": "02b9285c",
   "metadata": {
    "execution": {
     "iopub.execute_input": "2024-12-13T00:07:34.399081Z",
     "iopub.status.busy": "2024-12-13T00:07:34.398672Z",
     "iopub.status.idle": "2024-12-13T00:07:37.404082Z",
     "shell.execute_reply": "2024-12-13T00:07:37.402967Z"
    },
    "papermill": {
     "duration": 3.019172,
     "end_time": "2024-12-13T00:07:37.407389",
     "exception": false,
     "start_time": "2024-12-13T00:07:34.388217",
     "status": "completed"
    },
    "tags": []
   },
   "outputs": [],
   "source": [
    "\n",
    "test_data[0] = test_data[0].map(lambda x: \" \".join(x.split()[1:]))\n"
   ]
  },
  {
   "cell_type": "code",
   "execution_count": 11,
   "id": "85fafc30",
   "metadata": {
    "execution": {
     "iopub.execute_input": "2024-12-13T00:07:37.427019Z",
     "iopub.status.busy": "2024-12-13T00:07:37.426653Z",
     "iopub.status.idle": "2024-12-13T00:07:37.609182Z",
     "shell.execute_reply": "2024-12-13T00:07:37.608096Z"
    },
    "papermill": {
     "duration": 0.195041,
     "end_time": "2024-12-13T00:07:37.611461",
     "exception": false,
     "start_time": "2024-12-13T00:07:37.416420",
     "status": "completed"
    },
    "tags": []
   },
   "outputs": [
    {
     "name": "stdout",
     "output_type": "stream",
     "text": [
      "Index(['text', 'label'], dtype='object')\n",
      "Index(['text', 'label'], dtype='object')\n"
     ]
    }
   ],
   "source": [
    "train_data = train_data.rename(columns={0: 'text'})\n",
    "print(train_data.columns)\n",
    "\n",
    "test_data = test_data.rename(columns={0: 'text'})\n",
    "print(train_data.columns)"
   ]
  },
  {
   "cell_type": "markdown",
   "id": "123a0e52",
   "metadata": {
    "papermill": {
     "duration": 0.00868,
     "end_time": "2024-12-13T00:07:37.629687",
     "exception": false,
     "start_time": "2024-12-13T00:07:37.621007",
     "status": "completed"
    },
    "tags": []
   },
   "source": [
    "# Data Preprocessing"
   ]
  },
  {
   "cell_type": "markdown",
   "id": "a8cf75fe",
   "metadata": {
    "papermill": {
     "duration": 0.008898,
     "end_time": "2024-12-13T00:07:37.647575",
     "exception": false,
     "start_time": "2024-12-13T00:07:37.638677",
     "status": "completed"
    },
    "tags": []
   },
   "source": [
    "## Spliting data"
   ]
  },
  {
   "cell_type": "code",
   "execution_count": 12,
   "id": "1b6cfb8f",
   "metadata": {
    "execution": {
     "iopub.execute_input": "2024-12-13T00:07:37.667209Z",
     "iopub.status.busy": "2024-12-13T00:07:37.666787Z",
     "iopub.status.idle": "2024-12-13T00:07:37.672003Z",
     "shell.execute_reply": "2024-12-13T00:07:37.670906Z"
    },
    "papermill": {
     "duration": 0.017557,
     "end_time": "2024-12-13T00:07:37.674127",
     "exception": false,
     "start_time": "2024-12-13T00:07:37.656570",
     "status": "completed"
    },
    "tags": []
   },
   "outputs": [],
   "source": [
    "X=train_data.text\n",
    "y=train_data.label"
   ]
  },
  {
   "cell_type": "code",
   "execution_count": 13,
   "id": "7573b65b",
   "metadata": {
    "execution": {
     "iopub.execute_input": "2024-12-13T00:07:37.694445Z",
     "iopub.status.busy": "2024-12-13T00:07:37.693525Z",
     "iopub.status.idle": "2024-12-13T00:07:39.096851Z",
     "shell.execute_reply": "2024-12-13T00:07:39.095758Z"
    },
    "papermill": {
     "duration": 1.416231,
     "end_time": "2024-12-13T00:07:39.099407",
     "exception": false,
     "start_time": "2024-12-13T00:07:37.683176",
     "status": "completed"
    },
    "tags": []
   },
   "outputs": [],
   "source": [
    "X_train,X_test,y_train,y_test=train_test_split(X,y,test_size=0.2,random_state=42)"
   ]
  },
  {
   "cell_type": "code",
   "execution_count": 14,
   "id": "8b31c3d6",
   "metadata": {
    "execution": {
     "iopub.execute_input": "2024-12-13T00:07:39.119354Z",
     "iopub.status.busy": "2024-12-13T00:07:39.118937Z",
     "iopub.status.idle": "2024-12-13T00:11:21.817882Z",
     "shell.execute_reply": "2024-12-13T00:11:21.816732Z"
    },
    "papermill": {
     "duration": 222.711953,
     "end_time": "2024-12-13T00:11:21.820509",
     "exception": false,
     "start_time": "2024-12-13T00:07:39.108556",
     "status": "completed"
    },
    "tags": []
   },
   "outputs": [],
   "source": [
    "tokn=Tokenizer(num_words=20000)\n",
    "tokn.fit_on_texts(X_train)"
   ]
  },
  {
   "cell_type": "code",
   "execution_count": 15,
   "id": "68ad70c2",
   "metadata": {
    "execution": {
     "iopub.execute_input": "2024-12-13T00:11:21.841438Z",
     "iopub.status.busy": "2024-12-13T00:11:21.841006Z",
     "iopub.status.idle": "2024-12-13T00:13:48.532052Z",
     "shell.execute_reply": "2024-12-13T00:13:48.530737Z"
    },
    "papermill": {
     "duration": 146.704964,
     "end_time": "2024-12-13T00:13:48.534818",
     "exception": false,
     "start_time": "2024-12-13T00:11:21.829854",
     "status": "completed"
    },
    "tags": []
   },
   "outputs": [],
   "source": [
    "tokenized_sentences = tokn.texts_to_sequences(X_train)\n"
   ]
  },
  {
   "cell_type": "code",
   "execution_count": 16,
   "id": "1570f001",
   "metadata": {
    "execution": {
     "iopub.execute_input": "2024-12-13T00:13:48.556036Z",
     "iopub.status.busy": "2024-12-13T00:13:48.555565Z",
     "iopub.status.idle": "2024-12-13T00:14:21.916816Z",
     "shell.execute_reply": "2024-12-13T00:14:21.915333Z"
    },
    "papermill": {
     "duration": 33.375437,
     "end_time": "2024-12-13T00:14:21.919651",
     "exception": false,
     "start_time": "2024-12-13T00:13:48.544214",
     "status": "completed"
    },
    "tags": []
   },
   "outputs": [],
   "source": [
    "tkn_tst=tokn.texts_to_sequences(X_test)"
   ]
  },
  {
   "cell_type": "code",
   "execution_count": 17,
   "id": "bc5766e5",
   "metadata": {
    "execution": {
     "iopub.execute_input": "2024-12-13T00:14:21.942278Z",
     "iopub.status.busy": "2024-12-13T00:14:21.941832Z",
     "iopub.status.idle": "2024-12-13T00:14:37.489446Z",
     "shell.execute_reply": "2024-12-13T00:14:37.488310Z"
    },
    "papermill": {
     "duration": 15.563079,
     "end_time": "2024-12-13T00:14:37.492099",
     "exception": false,
     "start_time": "2024-12-13T00:14:21.929020",
     "status": "completed"
    },
    "tags": []
   },
   "outputs": [],
   "source": [
    "X_train_prcs = pad_sequences(tokenized_sentences, maxlen=100)"
   ]
  },
  {
   "cell_type": "code",
   "execution_count": 18,
   "id": "4919b1d7",
   "metadata": {
    "execution": {
     "iopub.execute_input": "2024-12-13T00:14:37.512170Z",
     "iopub.status.busy": "2024-12-13T00:14:37.511744Z",
     "iopub.status.idle": "2024-12-13T00:14:41.325737Z",
     "shell.execute_reply": "2024-12-13T00:14:41.324519Z"
    },
    "papermill": {
     "duration": 3.827053,
     "end_time": "2024-12-13T00:14:41.328286",
     "exception": false,
     "start_time": "2024-12-13T00:14:37.501233",
     "status": "completed"
    },
    "tags": []
   },
   "outputs": [],
   "source": [
    "X_test_prcs=pad_sequences(tkn_tst, maxlen=100)"
   ]
  },
  {
   "cell_type": "code",
   "execution_count": 19,
   "id": "f1977778",
   "metadata": {
    "execution": {
     "iopub.execute_input": "2024-12-13T00:14:41.348368Z",
     "iopub.status.busy": "2024-12-13T00:14:41.347942Z",
     "iopub.status.idle": "2024-12-13T00:14:41.434189Z",
     "shell.execute_reply": "2024-12-13T00:14:41.432698Z"
    },
    "papermill": {
     "duration": 0.09918,
     "end_time": "2024-12-13T00:14:41.436745",
     "exception": false,
     "start_time": "2024-12-13T00:14:41.337565",
     "status": "completed"
    },
    "tags": []
   },
   "outputs": [
    {
     "name": "stdout",
     "output_type": "stream",
     "text": [
      "[[0. 1.]]\n",
      "(2880000, 2)\n"
     ]
    }
   ],
   "source": [
    "y_train = np.array(y_train, dtype=np.int32)\n",
    "y_train = y_train - y_train.min()\n",
    "y_train = utils.to_categorical(y_train, num_classes=2)\n",
    "print(y_train[:1])\n",
    "print(y_train.shape)"
   ]
  },
  {
   "cell_type": "code",
   "execution_count": 20,
   "id": "aceaf50d",
   "metadata": {
    "execution": {
     "iopub.execute_input": "2024-12-13T00:14:41.457075Z",
     "iopub.status.busy": "2024-12-13T00:14:41.456663Z",
     "iopub.status.idle": "2024-12-13T00:14:41.464526Z",
     "shell.execute_reply": "2024-12-13T00:14:41.463308Z"
    },
    "papermill": {
     "duration": 0.021181,
     "end_time": "2024-12-13T00:14:41.467080",
     "exception": false,
     "start_time": "2024-12-13T00:14:41.445899",
     "status": "completed"
    },
    "tags": []
   },
   "outputs": [],
   "source": [
    "y_test = np.array(y_test, dtype=np.int32)\n",
    "y_test = y_test - y_test.min()"
   ]
  },
  {
   "cell_type": "code",
   "execution_count": 21,
   "id": "310f6ecd",
   "metadata": {
    "execution": {
     "iopub.execute_input": "2024-12-13T00:14:41.487001Z",
     "iopub.status.busy": "2024-12-13T00:14:41.486603Z",
     "iopub.status.idle": "2024-12-13T00:14:41.492341Z",
     "shell.execute_reply": "2024-12-13T00:14:41.490947Z"
    },
    "papermill": {
     "duration": 0.018988,
     "end_time": "2024-12-13T00:14:41.495200",
     "exception": false,
     "start_time": "2024-12-13T00:14:41.476212",
     "status": "completed"
    },
    "tags": []
   },
   "outputs": [
    {
     "name": "stdout",
     "output_type": "stream",
     "text": [
      "<class 'numpy.ndarray'> (2880000, 100)\n",
      "<class 'numpy.ndarray'> (2880000, 2)\n"
     ]
    }
   ],
   "source": [
    "print(type(X_train_prcs), X_train_prcs.shape)\n",
    "print(type(y_train), y_train.shape)"
   ]
  },
  {
   "cell_type": "markdown",
   "id": "44892192",
   "metadata": {
    "papermill": {
     "duration": 0.008947,
     "end_time": "2024-12-13T00:14:41.514016",
     "exception": false,
     "start_time": "2024-12-13T00:14:41.505069",
     "status": "completed"
    },
    "tags": []
   },
   "source": [
    "# Building Model"
   ]
  },
  {
   "cell_type": "code",
   "execution_count": 22,
   "id": "99f9a208",
   "metadata": {
    "execution": {
     "iopub.execute_input": "2024-12-13T00:14:41.534469Z",
     "iopub.status.busy": "2024-12-13T00:14:41.534023Z",
     "iopub.status.idle": "2024-12-13T00:14:41.688831Z",
     "shell.execute_reply": "2024-12-13T00:14:41.687772Z"
    },
    "papermill": {
     "duration": 0.167835,
     "end_time": "2024-12-13T00:14:41.691096",
     "exception": false,
     "start_time": "2024-12-13T00:14:41.523261",
     "status": "completed"
    },
    "tags": []
   },
   "outputs": [
    {
     "name": "stderr",
     "output_type": "stream",
     "text": [
      "c:\\Users\\alexi\\AppData\\Local\\Programs\\Python\\Python39\\lib\\site-packages\\keras\\src\\layers\\core\\embedding.py:90: UserWarning: Argument `input_length` is deprecated. Just remove it.\n",
      "  warnings.warn(\n"
     ]
    }
   ],
   "source": [
    "model=Sequential()\n",
    "model.add(Embedding(input_dim=20000,output_dim=128,input_length=100))\n",
    "model.add(LSTM(128, return_sequences=True))\n",
    "model.add(Dropout(0.25))\n",
    "model.add(LSTM(64)) \n",
    "model.add(Dropout(0.25))\n",
    "model.add(Dense(128,activation='relu'))\n",
    "model.add(Dropout(0.3))\n",
    "model.add(Dense(2,activation='softmax'))\n",
    "\n",
    "model.compile(optimizer=Adam(learning_rate=0.001), loss='categorical_crossentropy', metrics=['accuracy'])\n",
    "\n",
    "\n"
   ]
  },
  {
   "cell_type": "code",
   "execution_count": 23,
   "id": "838280f1",
   "metadata": {
    "execution": {
     "iopub.execute_input": "2024-12-13T00:14:41.711455Z",
     "iopub.status.busy": "2024-12-13T00:14:41.710994Z",
     "iopub.status.idle": "2024-12-13T00:14:41.717103Z",
     "shell.execute_reply": "2024-12-13T00:14:41.715623Z"
    },
    "papermill": {
     "duration": 0.019077,
     "end_time": "2024-12-13T00:14:41.719492",
     "exception": false,
     "start_time": "2024-12-13T00:14:41.700415",
     "status": "completed"
    },
    "tags": []
   },
   "outputs": [],
   "source": [
    "# Callback  \n",
    "early_stopping = EarlyStopping(\n",
    "    monitor='val_loss', \n",
    "    patience=3, \n",
    "    restore_best_weights=True)\n",
    "\n",
    "model_checkpoint = ModelCheckpoint(\n",
    "    'best_model.keras', \n",
    "    save_best_only=True, \n",
    "    monitor='val_accuracy')\n"
   ]
  },
  {
   "cell_type": "code",
   "execution_count": null,
   "id": "6255f3e8",
   "metadata": {
    "execution": {
     "iopub.execute_input": "2024-12-13T00:14:41.742112Z",
     "iopub.status.busy": "2024-12-13T00:14:41.741668Z",
     "iopub.status.idle": "2024-12-13T07:02:26.300925Z",
     "shell.execute_reply": "2024-12-13T07:02:26.299679Z"
    },
    "papermill": {
     "duration": 24465.140014,
     "end_time": "2024-12-13T07:02:26.869482",
     "exception": false,
     "start_time": "2024-12-13T00:14:41.729468",
     "status": "completed"
    },
    "tags": []
   },
   "outputs": [
    {
     "name": "stdout",
     "output_type": "stream",
     "text": [
      "Epoch 1/8\n",
      "\u001b[1m1920/1920\u001b[0m \u001b[32m━━━━━━━━━━━━━━━━━━━━\u001b[0m\u001b[37m\u001b[0m \u001b[1m0s\u001b[0m 1s/step - accuracy: 0.8899 - loss: 0.2603"
     ]
    }
   ],
   "source": [
    "history = model.fit(\n",
    "    X_train_prcs, y_train,\n",
    "    validation_split=0.2,\n",
    "    epochs=8,\n",
    "    batch_size=1200,\n",
    "    callbacks=[early_stopping, model_checkpoint])\n"
   ]
  },
  {
   "cell_type": "code",
   "execution_count": 25,
   "id": "bfb7a561",
   "metadata": {
    "execution": {
     "iopub.execute_input": "2024-12-13T07:02:28.189119Z",
     "iopub.status.busy": "2024-12-13T07:02:28.188727Z",
     "iopub.status.idle": "2024-12-13T08:25:51.799739Z",
     "shell.execute_reply": "2024-12-13T08:25:51.798715Z"
    },
    "papermill": {
     "duration": 5004.274149,
     "end_time": "2024-12-13T08:25:51.805506",
     "exception": false,
     "start_time": "2024-12-13T07:02:27.531357",
     "status": "completed"
    },
    "tags": []
   },
   "outputs": [
    {
     "name": "stdout",
     "output_type": "stream",
     "text": [
      "\u001b[1m90000/90000\u001b[0m \u001b[32m━━━━━━━━━━━━━━━━━━━━\u001b[0m\u001b[37m\u001b[0m \u001b[1m4946s\u001b[0m 55ms/step\n"
     ]
    }
   ],
   "source": [
    "y_train_pred = model.predict(X_train_prcs)"
   ]
  },
  {
   "cell_type": "code",
   "execution_count": 26,
   "id": "d1755bd4",
   "metadata": {
    "execution": {
     "iopub.execute_input": "2024-12-13T08:26:05.458603Z",
     "iopub.status.busy": "2024-12-13T08:26:05.456828Z",
     "iopub.status.idle": "2024-12-13T08:26:05.577540Z",
     "shell.execute_reply": "2024-12-13T08:26:05.576360Z"
    },
    "papermill": {
     "duration": 7.632749,
     "end_time": "2024-12-13T08:26:05.580090",
     "exception": false,
     "start_time": "2024-12-13T08:25:57.947341",
     "status": "completed"
    },
    "tags": []
   },
   "outputs": [
    {
     "data": {
      "text/plain": [
       "array([1, 1, 1, 1, 0, 0, 0, 0, 0, 1, 0])"
      ]
     },
     "execution_count": 26,
     "metadata": {},
     "output_type": "execute_result"
    }
   ],
   "source": [
    "y_train_pred = np.argmax(y_train_pred, axis=1)  \n",
    "y_train_pred[:11]"
   ]
  },
  {
   "cell_type": "markdown",
   "id": "d9e27adc",
   "metadata": {
    "papermill": {
     "duration": 6.707716,
     "end_time": "2024-12-13T08:26:19.445832",
     "exception": false,
     "start_time": "2024-12-13T08:26:12.738116",
     "status": "completed"
    },
    "tags": []
   },
   "source": [
    "# Model Evaluation"
   ]
  },
  {
   "cell_type": "code",
   "execution_count": 27,
   "id": "85223ceb",
   "metadata": {
    "execution": {
     "iopub.execute_input": "2024-12-13T08:26:31.747508Z",
     "iopub.status.busy": "2024-12-13T08:26:31.746694Z",
     "iopub.status.idle": "2024-12-13T08:26:38.815778Z",
     "shell.execute_reply": "2024-12-13T08:26:38.814375Z"
    },
    "papermill": {
     "duration": 13.306979,
     "end_time": "2024-12-13T08:26:38.818528",
     "exception": false,
     "start_time": "2024-12-13T08:26:25.511549",
     "status": "completed"
    },
    "tags": []
   },
   "outputs": [
    {
     "name": "stdout",
     "output_type": "stream",
     "text": [
      "              precision    recall  f1-score   support\n",
      "\n",
      "           0       0.96      0.95      0.96   1440241\n",
      "           1       0.95      0.96      0.96   1439759\n",
      "\n",
      "    accuracy                           0.96   2880000\n",
      "   macro avg       0.96      0.96      0.96   2880000\n",
      "weighted avg       0.96      0.96      0.96   2880000\n",
      "\n"
     ]
    }
   ],
   "source": [
    "print(classification_report(np.argmax(y_train, axis=1), y_train_pred))"
   ]
  },
  {
   "cell_type": "code",
   "execution_count": 28,
   "id": "cc7b2bea",
   "metadata": {
    "execution": {
     "iopub.execute_input": "2024-12-13T08:26:50.815261Z",
     "iopub.status.busy": "2024-12-13T08:26:50.814332Z",
     "iopub.status.idle": "2024-12-13T08:26:51.923725Z",
     "shell.execute_reply": "2024-12-13T08:26:51.922540Z"
    },
    "papermill": {
     "duration": 7.068591,
     "end_time": "2024-12-13T08:26:51.926294",
     "exception": false,
     "start_time": "2024-12-13T08:26:44.857703",
     "status": "completed"
    },
    "tags": []
   },
   "outputs": [
    {
     "data": {
      "text/plain": [
       "Text(0.5, 1.0, 'Confusion Matrix')"
      ]
     },
     "execution_count": 28,
     "metadata": {},
     "output_type": "execute_result"
    },
    {
     "data": {
      "image/png": "[encoded data removed]",
      "text/plain": [
       "<Figure size 640x480 with 2 Axes>"
      ]
     },
     "metadata": {},
     "output_type": "display_data"
    }
   ],
   "source": [
    "sns.heatmap(confusion_matrix(np.argmax(y_train, axis=1),y_train_pred), annot=True, fmt='d', cmap='Blues')\n",
    "plt.title('Confusion Matrix')"
   ]
  },
  {
   "cell_type": "code",
   "execution_count": null,
   "id": "b248d99a",
   "metadata": {
    "papermill": {
     "duration": 6.18149,
     "end_time": "2024-12-13T08:27:04.261832",
     "exception": false,
     "start_time": "2024-12-13T08:26:58.080342",
     "status": "completed"
    },
    "tags": []
   },
   "outputs": [],
   "source": []
  },
  {
   "cell_type": "code",
   "execution_count": null,
   "id": "d81dfbfc",
   "metadata": {
    "papermill": {
     "duration": 5.870233,
     "end_time": "2024-12-13T08:27:16.138427",
     "exception": false,
     "start_time": "2024-12-13T08:27:10.268194",
     "status": "completed"
    },
    "tags": []
   },
   "outputs": [],
   "source": []
  },
  {
   "cell_type": "code",
   "execution_count": 29,
   "id": "3df5bff1",
   "metadata": {
    "execution": {
     "iopub.execute_input": "2024-12-13T08:27:28.396354Z",
     "iopub.status.busy": "2024-12-13T08:27:28.395895Z",
     "iopub.status.idle": "2024-12-13T08:48:29.024306Z",
     "shell.execute_reply": "2024-12-13T08:48:29.023090Z"
    },
    "papermill": {
     "duration": 1266.822562,
     "end_time": "2024-12-13T08:48:29.027538",
     "exception": false,
     "start_time": "2024-12-13T08:27:22.204976",
     "status": "completed"
    },
    "tags": []
   },
   "outputs": [
    {
     "name": "stdout",
     "output_type": "stream",
     "text": [
      "\u001b[1m22500/22500\u001b[0m \u001b[32m━━━━━━━━━━━━━━━━━━━━\u001b[0m\u001b[37m\u001b[0m \u001b[1m1246s\u001b[0m 55ms/step\n"
     ]
    }
   ],
   "source": [
    "y_pred = model.predict(X_test_prcs)"
   ]
  },
  {
   "cell_type": "code",
   "execution_count": 30,
   "id": "8ce9c0c6",
   "metadata": {
    "execution": {
     "iopub.execute_input": "2024-12-13T08:48:43.902619Z",
     "iopub.status.busy": "2024-12-13T08:48:43.902139Z",
     "iopub.status.idle": "2024-12-13T08:48:43.918944Z",
     "shell.execute_reply": "2024-12-13T08:48:43.918032Z"
    },
    "papermill": {
     "duration": 7.41704,
     "end_time": "2024-12-13T08:48:43.921516",
     "exception": false,
     "start_time": "2024-12-13T08:48:36.504476",
     "status": "completed"
    },
    "tags": []
   },
   "outputs": [],
   "source": [
    "y_pred = np.argmax(y_pred, axis=1)"
   ]
  },
  {
   "cell_type": "code",
   "execution_count": 31,
   "id": "6e85b535",
   "metadata": {
    "execution": {
     "iopub.execute_input": "2024-12-13T08:48:58.727708Z",
     "iopub.status.busy": "2024-12-13T08:48:58.727287Z",
     "iopub.status.idle": "2024-12-13T08:49:00.240639Z",
     "shell.execute_reply": "2024-12-13T08:49:00.239421Z"
    },
    "papermill": {
     "duration": 8.955711,
     "end_time": "2024-12-13T08:49:00.242906",
     "exception": false,
     "start_time": "2024-12-13T08:48:51.287195",
     "status": "completed"
    },
    "tags": []
   },
   "outputs": [
    {
     "name": "stdout",
     "output_type": "stream",
     "text": [
      "              precision    recall  f1-score   support\n",
      "\n",
      "           0       0.95      0.94      0.94    359759\n",
      "           1       0.94      0.95      0.94    360241\n",
      "\n",
      "    accuracy                           0.94    720000\n",
      "   macro avg       0.94      0.94      0.94    720000\n",
      "weighted avg       0.94      0.94      0.94    720000\n",
      "\n"
     ]
    }
   ],
   "source": [
    "print(classification_report(y_test, y_pred))"
   ]
  },
  {
   "cell_type": "code",
   "execution_count": 32,
   "id": "6f1c55b0",
   "metadata": {
    "execution": {
     "iopub.execute_input": "2024-12-13T08:49:15.154452Z",
     "iopub.status.busy": "2024-12-13T08:49:15.154030Z",
     "iopub.status.idle": "2024-12-13T08:49:15.584544Z",
     "shell.execute_reply": "2024-12-13T08:49:15.583405Z"
    },
    "papermill": {
     "duration": 7.851939,
     "end_time": "2024-12-13T08:49:15.586940",
     "exception": false,
     "start_time": "2024-12-13T08:49:07.735001",
     "status": "completed"
    },
    "tags": []
   },
   "outputs": [
    {
     "data": {
      "text/plain": [
       "Text(0.5, 1.0, 'Confusion Matrix')"
      ]
     },
     "execution_count": 32,
     "metadata": {},
     "output_type": "execute_result"
    },
    {
     "data": {
      "image/png": "[encoded data removed]",
      "text/plain": [
       "<Figure size 640x480 with 2 Axes>"
      ]
     },
     "metadata": {},
     "output_type": "display_data"
    }
   ],
   "source": [
    "sns.heatmap(confusion_matrix(y_test,y_pred), annot=True, fmt='d', cmap='Blues')\n",
    "plt.title('Confusion Matrix')"
   ]
  },
  {
   "cell_type": "code",
   "execution_count": 33,
   "id": "f559ef20",
   "metadata": {
    "execution": {
     "iopub.execute_input": "2024-12-13T08:49:30.284581Z",
     "iopub.status.busy": "2024-12-13T08:49:30.283514Z",
     "iopub.status.idle": "2024-12-13T08:49:48.880584Z",
     "shell.execute_reply": "2024-12-13T08:49:48.879511Z"
    },
    "papermill": {
     "duration": 26.044478,
     "end_time": "2024-12-13T08:49:48.883111",
     "exception": false,
     "start_time": "2024-12-13T08:49:22.838633",
     "status": "completed"
    },
    "tags": []
   },
   "outputs": [],
   "source": [
    "Token_test=tokn.texts_to_sequences(test_data.text)"
   ]
  },
  {
   "cell_type": "code",
   "execution_count": 34,
   "id": "a9a30513",
   "metadata": {
    "execution": {
     "iopub.execute_input": "2024-12-13T08:50:03.544562Z",
     "iopub.status.busy": "2024-12-13T08:50:03.544079Z",
     "iopub.status.idle": "2024-12-13T08:50:05.695681Z",
     "shell.execute_reply": "2024-12-13T08:50:05.694681Z"
    },
    "papermill": {
     "duration": 9.564399,
     "end_time": "2024-12-13T08:50:05.698146",
     "exception": false,
     "start_time": "2024-12-13T08:49:56.133747",
     "status": "completed"
    },
    "tags": []
   },
   "outputs": [],
   "source": [
    "Test_process=pad_sequences(Token_test, maxlen=100)"
   ]
  },
  {
   "cell_type": "code",
   "execution_count": 35,
   "id": "2bf277a9",
   "metadata": {
    "execution": {
     "iopub.execute_input": "2024-12-13T08:50:20.505790Z",
     "iopub.status.busy": "2024-12-13T08:50:20.505355Z",
     "iopub.status.idle": "2024-12-13T08:50:20.518634Z",
     "shell.execute_reply": "2024-12-13T08:50:20.517344Z"
    },
    "papermill": {
     "duration": 7.409303,
     "end_time": "2024-12-13T08:50:20.521089",
     "exception": false,
     "start_time": "2024-12-13T08:50:13.111786",
     "status": "completed"
    },
    "tags": []
   },
   "outputs": [],
   "source": [
    "Test_true = np.array(test_data.label, dtype=np.int32)\n",
    "Test_true = Test_true - Test_true.min()"
   ]
  },
  {
   "cell_type": "code",
   "execution_count": 36,
   "id": "5fed5b19",
   "metadata": {
    "execution": {
     "iopub.execute_input": "2024-12-13T08:50:35.201427Z",
     "iopub.status.busy": "2024-12-13T08:50:35.200971Z",
     "iopub.status.idle": "2024-12-13T08:50:35.208250Z",
     "shell.execute_reply": "2024-12-13T08:50:35.207117Z"
    },
    "papermill": {
     "duration": 7.282265,
     "end_time": "2024-12-13T08:50:35.210436",
     "exception": false,
     "start_time": "2024-12-13T08:50:27.928171",
     "status": "completed"
    },
    "tags": []
   },
   "outputs": [
    {
     "data": {
      "text/plain": [
       "(400000, 100)"
      ]
     },
     "execution_count": 36,
     "metadata": {},
     "output_type": "execute_result"
    }
   ],
   "source": [
    "Test_process.shape"
   ]
  },
  {
   "cell_type": "code",
   "execution_count": 37,
   "id": "94ef9e3c",
   "metadata": {
    "execution": {
     "iopub.execute_input": "2024-12-13T08:50:49.883457Z",
     "iopub.status.busy": "2024-12-13T08:50:49.883000Z",
     "iopub.status.idle": "2024-12-13T09:02:33.619436Z",
     "shell.execute_reply": "2024-12-13T09:02:33.618154Z"
    },
    "papermill": {
     "duration": 710.99425,
     "end_time": "2024-12-13T09:02:33.622320",
     "exception": false,
     "start_time": "2024-12-13T08:50:42.628070",
     "status": "completed"
    },
    "tags": []
   },
   "outputs": [
    {
     "name": "stdout",
     "output_type": "stream",
     "text": [
      "\u001b[1m12500/12500\u001b[0m \u001b[32m━━━━━━━━━━━━━━━━━━━━\u001b[0m\u001b[37m\u001b[0m \u001b[1m696s\u001b[0m 56ms/step\n"
     ]
    }
   ],
   "source": [
    "Test_pred = model.predict(Test_process)"
   ]
  },
  {
   "cell_type": "code",
   "execution_count": 38,
   "id": "1cc3e79b",
   "metadata": {
    "execution": {
     "iopub.execute_input": "2024-12-13T09:02:50.071092Z",
     "iopub.status.busy": "2024-12-13T09:02:50.070661Z",
     "iopub.status.idle": "2024-12-13T09:02:50.082006Z",
     "shell.execute_reply": "2024-12-13T09:02:50.080647Z"
    },
    "papermill": {
     "duration": 8.168447,
     "end_time": "2024-12-13T09:02:50.084890",
     "exception": false,
     "start_time": "2024-12-13T09:02:41.916443",
     "status": "completed"
    },
    "tags": []
   },
   "outputs": [],
   "source": [
    "Test_pred = np.argmax(Test_pred, axis=1)"
   ]
  },
  {
   "cell_type": "code",
   "execution_count": 39,
   "id": "f88b0cfb",
   "metadata": {
    "execution": {
     "iopub.execute_input": "2024-12-13T09:03:06.539276Z",
     "iopub.status.busy": "2024-12-13T09:03:06.538716Z",
     "iopub.status.idle": "2024-12-13T09:03:07.397078Z",
     "shell.execute_reply": "2024-12-13T09:03:07.395758Z"
    },
    "papermill": {
     "duration": 9.151778,
     "end_time": "2024-12-13T09:03:07.399620",
     "exception": false,
     "start_time": "2024-12-13T09:02:58.247842",
     "status": "completed"
    },
    "tags": []
   },
   "outputs": [
    {
     "name": "stdout",
     "output_type": "stream",
     "text": [
      "              precision    recall  f1-score   support\n",
      "\n",
      "           0       0.95      0.94      0.94    200000\n",
      "           1       0.94      0.95      0.94    200000\n",
      "\n",
      "    accuracy                           0.94    400000\n",
      "   macro avg       0.94      0.94      0.94    400000\n",
      "weighted avg       0.94      0.94      0.94    400000\n",
      "\n"
     ]
    }
   ],
   "source": [
    "print(classification_report(Test_true, Test_pred))"
   ]
  },
  {
   "cell_type": "code",
   "execution_count": 40,
   "id": "461da7cd",
   "metadata": {
    "execution": {
     "iopub.execute_input": "2024-12-13T09:03:23.542228Z",
     "iopub.status.busy": "2024-12-13T09:03:23.541802Z",
     "iopub.status.idle": "2024-12-13T09:03:23.927725Z",
     "shell.execute_reply": "2024-12-13T09:03:23.926560Z"
    },
    "papermill": {
     "duration": 8.408267,
     "end_time": "2024-12-13T09:03:23.930231",
     "exception": false,
     "start_time": "2024-12-13T09:03:15.521964",
     "status": "completed"
    },
    "tags": []
   },
   "outputs": [
    {
     "data": {
      "text/plain": [
       "Text(0.5, 1.0, 'Confusion Matrix')"
      ]
     },
     "execution_count": 40,
     "metadata": {},
     "output_type": "execute_result"
    },
    {
     "data": {
      "image/png": "[encoded data removed]",
      "text/plain": [
       "<Figure size 640x480 with 2 Axes>"
      ]
     },
     "metadata": {},
     "output_type": "display_data"
    }
   ],
   "source": [
    "sns.heatmap(confusion_matrix(Test_true, Test_pred), annot=True, fmt='d', cmap='Blues')\n",
    "plt.title('Confusion Matrix')"
   ]
  },
  {
   "cell_type": "code",
   "execution_count": null,
   "id": "c08e2175",
   "metadata": {
    "papermill": {
     "duration": 8.31811,
     "end_time": "2024-12-13T09:03:40.390312",
     "exception": false,
     "start_time": "2024-12-13T09:03:32.072202",
     "status": "completed"
    },
    "tags": []
   },
   "outputs": [],
   "source": []
  }
 ],
 "metadata": {
  "kaggle": {
   "accelerator": "none",
   "dataSources": [
    {
     "datasetId": 1305,
     "sourceId": 800230,
     "sourceType": "datasetVersion"
    }
   ],
   "dockerImageVersionId": 30804,
   "isGpuEnabled": false,
   "isInternetEnabled": true,
   "language": "python",
   "sourceType": "notebook"
  },
  "kernelspec": {
   "display_name": "Python 3",
   "language": "python",
   "name": "python3"
  },
  "language_info": {
   "codemirror_mode": {
    "name": "ipython",
    "version": 3
   },
   "file_extension": ".py",
   "mimetype": "text/x-python",
   "name": "python",
   "nbconvert_exporter": "python",
   "pygments_lexer": "ipython3",
   "version": "3.9.13"
  },
  "papermill": {
   "default_parameters": {},
   "duration": 32433.552729,
   "end_time": "2024-12-13T09:03:51.986790",
   "environment_variables": {},
   "exception": null,
   "input_path": "__notebook__.ipynb",
   "output_path": "__notebook__.ipynb",
   "parameters": {},
   "start_time": "2024-12-13T00:03:18.434061",
   "version": "2.6.0"
  }
 },
 "nbformat": 4,
 "nbformat_minor": 5
}
