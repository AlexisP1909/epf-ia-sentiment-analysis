{
 "cells": [
  {
   "cell_type": "markdown",
   "metadata": {},
   "source": [
    "# Sentimen Analysis : Fine-Tuning Bert (Transformer) "
   ]
  },
  {
   "cell_type": "code",
   "execution_count": 1,
   "metadata": {
    "_cell_guid": "b1076dfc-b9ad-4769-8c92-a6c4dae69d19",
    "_uuid": "8f2839f25d086af736a60e9eeb907d3b93b6e0e5",
    "trusted": true
   },
   "outputs": [
    {
     "name": "stdout",
     "output_type": "stream",
     "text": [
      "Collecting transformers\n",
      "  Downloading transformers-4.47.1-py3-none-any.whl.metadata (44 kB)\n",
      "Requirement already satisfied: filelock in c:\\users\\alexi\\appdata\\local\\programs\\python\\python39\\lib\\site-packages (from transformers) (3.16.1)\n",
      "Requirement already satisfied: huggingface-hub<1.0,>=0.24.0 in c:\\users\\alexi\\appdata\\local\\programs\\python\\python39\\lib\\site-packages (from transformers) (0.27.0)\n",
      "Requirement already satisfied: numpy>=1.17 in c:\\users\\alexi\\appdata\\local\\programs\\python\\python39\\lib\\site-packages (from transformers) (1.26.4)\n",
      "Requirement already satisfied: packaging>=20.0 in c:\\users\\alexi\\appdata\\local\\programs\\python\\python39\\lib\\site-packages (from transformers) (24.2)\n",
      "Requirement already satisfied: pyyaml>=5.1 in c:\\users\\alexi\\appdata\\local\\programs\\python\\python39\\lib\\site-packages (from transformers) (5.3.1)\n",
      "Requirement already satisfied: regex!=2019.12.17 in c:\\users\\alexi\\appdata\\local\\programs\\python\\python39\\lib\\site-packages (from transformers) (2024.11.6)\n",
      "Requirement already satisfied: requests in c:\\users\\alexi\\appdata\\local\\programs\\python\\python39\\lib\\site-packages (from transformers) (2.32.3)\n",
      "Collecting tokenizers<0.22,>=0.21 (from transformers)\n",
      "  Downloading tokenizers-0.21.0-cp39-abi3-win_amd64.whl.metadata (6.9 kB)\n",
      "Collecting safetensors>=0.4.1 (from transformers)\n",
      "  Downloading safetensors-0.5.0-cp38-abi3-win_amd64.whl.metadata (3.9 kB)\n",
      "Requirement already satisfied: tqdm>=4.27 in c:\\users\\alexi\\appdata\\local\\programs\\python\\python39\\lib\\site-packages (from transformers) (4.67.1)\n",
      "Requirement already satisfied: fsspec>=2023.5.0 in c:\\users\\alexi\\appdata\\local\\programs\\python\\python39\\lib\\site-packages (from huggingface-hub<1.0,>=0.24.0->transformers) (2024.12.0)\n",
      "Requirement already satisfied: typing-extensions>=3.7.4.3 in c:\\users\\alexi\\appdata\\local\\programs\\python\\python39\\lib\\site-packages (from huggingface-hub<1.0,>=0.24.0->transformers) (4.12.2)\n",
      "Requirement already satisfied: colorama in c:\\users\\alexi\\appdata\\local\\programs\\python\\python39\\lib\\site-packages (from tqdm>=4.27->transformers) (0.4.6)\n",
      "Requirement already satisfied: charset-normalizer<4,>=2 in c:\\users\\alexi\\appdata\\local\\programs\\python\\python39\\lib\\site-packages (from requests->transformers) (3.4.0)\n",
      "Requirement already satisfied: idna<4,>=2.5 in c:\\users\\alexi\\appdata\\local\\programs\\python\\python39\\lib\\site-packages (from requests->transformers) (2.10)\n",
      "Requirement already satisfied: urllib3<3,>=1.21.1 in c:\\users\\alexi\\appdata\\local\\programs\\python\\python39\\lib\\site-packages (from requests->transformers) (1.25.10)\n",
      "Requirement already satisfied: certifi>=2017.4.17 in c:\\users\\alexi\\appdata\\local\\programs\\python\\python39\\lib\\site-packages (from requests->transformers) (2020.6.20)\n",
      "Downloading transformers-4.47.1-py3-none-any.whl (10.1 MB)\n",
      "   ---------------------------------------- 0.0/10.1 MB ? eta -:--:--\n",
      "   ------------------------------- -------- 7.9/10.1 MB 40.4 MB/s eta 0:00:01\n",
      "   ---------------------------------------- 10.1/10.1 MB 28.7 MB/s eta 0:00:00\n",
      "Downloading safetensors-0.5.0-cp38-abi3-win_amd64.whl (303 kB)\n",
      "Downloading tokenizers-0.21.0-cp39-abi3-win_amd64.whl (2.4 MB)\n",
      "   ---------------------------------------- 0.0/2.4 MB ? eta -:--:--\n",
      "   ---------------------------------------- 2.4/2.4 MB 33.8 MB/s eta 0:00:00\n",
      "Installing collected packages: safetensors, tokenizers, transformers\n",
      "Successfully installed safetensors-0.5.0 tokenizers-0.21.0 transformers-4.47.1\n"
     ]
    }
   ],
   "source": [
    "!pip install transformers -U"
   ]
  },
  {
   "cell_type": "code",
   "execution_count": null,
   "metadata": {},
   "outputs": [],
   "source": [
    "import kagglehub\n",
    "import os\n",
    "import shutil\n",
    "path = kagglehub.dataset_download(\"bittlingmayer/amazonreviews\")\n",
    "print(\"Chemin de l'archive téléchargée :\", path)\n",
    "\n",
    "# Dossier de destination pour déplacer l'archive\n",
    "destination_dir = \"C:/Users/alexi/aProjets_Code/IA Projet 2/epf-ia-sentiment-analysis/amazonreviews_dataset\"\n",
    "os.makedirs(destination_dir, exist_ok=True)\n",
    "\n",
    "# Chemin complet de l'archive dans le dossier de destination\n",
    "# Récupère le nom de l'archive (ex: \"archive.zip\")\n",
    "archive_name = os.path.basename(path)\n",
    "new_archive_path = os.path.join(destination_dir, archive_name)\n",
    "\n",
    "# Déplacer l'archive vers le dossier de destination\n",
    "shutil.move(path, new_archive_path)\n",
    "print(f\"Archive déplacée vers : {new_archive_path}\")\n",
    "\n",
    "# Dossier pour extraire l'archive\n",
    "extract_dir = os.path.join(destination_dir, \"amazonreviews\")\n",
    "os.makedirs(extract_dir, exist_ok=True)\n",
    "print(f\"Archive extraite dans : {extract_dir}\")"
   ]
  },
  {
   "cell_type": "markdown",
   "metadata": {},
   "source": [
    "## Data conversion from bz2 to csv"
   ]
  },
  {
   "cell_type": "code",
   "execution_count": 2,
   "metadata": {
    "execution": {
     "iopub.execute_input": "2024-08-20T18:22:36.241787Z",
     "iopub.status.busy": "2024-08-20T18:22:36.241086Z",
     "iopub.status.idle": "2024-08-20T18:24:11.850821Z",
     "shell.execute_reply": "2024-08-20T18:24:11.849905Z",
     "shell.execute_reply.started": "2024-08-20T18:22:36.241752Z"
    },
    "trusted": true
   },
   "outputs": [],
   "source": [
    "import pandas as pd\n",
    "\n",
    "import bz2\n",
    "\n",
    "def decompress_bz2(file_path, output_path):\n",
    "    with bz2.open(file_path, 'rt', encoding='utf-8') as file:\n",
    "        with open(output_path, 'w', encoding='utf-8') as out_file:\n",
    "            out_file.write(file.read())\n",
    "\n",
    "\n",
    "# Decompress the files\n",
    "decompress_bz2('./amazonreviews_dataset/7/train.ft.txt.bz2', 'train.ft.txt')"
   ]
  },
  {
   "cell_type": "code",
   "execution_count": 3,
   "metadata": {
    "execution": {
     "iopub.execute_input": "2024-08-20T18:24:11.853395Z",
     "iopub.status.busy": "2024-08-20T18:24:11.852870Z",
     "iopub.status.idle": "2024-08-20T18:24:11.859552Z",
     "shell.execute_reply": "2024-08-20T18:24:11.858628Z",
     "shell.execute_reply.started": "2024-08-20T18:24:11.853362Z"
    },
    "trusted": true
   },
   "outputs": [],
   "source": [
    "def parse_data(file_path):\n",
    "    data = []\n",
    "    with open(file_path, 'r', encoding='utf-8') as file:\n",
    "        for line in file:\n",
    "            label, text = line.split(' ', 1)\n",
    "            label = int(label.replace('__label__', ''))\n",
    "            data.append((label, text.strip()))\n",
    "    return pd.DataFrame(data, columns=['label', 'text'])\n"
   ]
  },
  {
   "cell_type": "code",
   "execution_count": 4,
   "metadata": {
    "execution": {
     "iopub.execute_input": "2024-08-20T18:24:11.860981Z",
     "iopub.status.busy": "2024-08-20T18:24:11.860686Z",
     "iopub.status.idle": "2024-08-20T18:24:21.104641Z",
     "shell.execute_reply": "2024-08-20T18:24:21.103423Z",
     "shell.execute_reply.started": "2024-08-20T18:24:11.860940Z"
    },
    "trusted": true
   },
   "outputs": [
    {
     "data": {
      "text/html": [
       "<div>\n",
       "<style scoped>\n",
       "    .dataframe tbody tr th:only-of-type {\n",
       "        vertical-align: middle;\n",
       "    }\n",
       "\n",
       "    .dataframe tbody tr th {\n",
       "        vertical-align: top;\n",
       "    }\n",
       "\n",
       "    .dataframe thead th {\n",
       "        text-align: right;\n",
       "    }\n",
       "</style>\n",
       "<table border=\"1\" class=\"dataframe\">\n",
       "  <thead>\n",
       "    <tr style=\"text-align: right;\">\n",
       "      <th></th>\n",
       "      <th>label</th>\n",
       "      <th>text</th>\n",
       "    </tr>\n",
       "  </thead>\n",
       "  <tbody>\n",
       "    <tr>\n",
       "      <th>0</th>\n",
       "      <td>2</td>\n",
       "      <td>Stuning even for the non-gamer: This sound tra...</td>\n",
       "    </tr>\n",
       "    <tr>\n",
       "      <th>1</th>\n",
       "      <td>2</td>\n",
       "      <td>The best soundtrack ever to anything.: I'm rea...</td>\n",
       "    </tr>\n",
       "    <tr>\n",
       "      <th>2</th>\n",
       "      <td>2</td>\n",
       "      <td>Amazing!: This soundtrack is my favorite music...</td>\n",
       "    </tr>\n",
       "    <tr>\n",
       "      <th>3</th>\n",
       "      <td>2</td>\n",
       "      <td>Excellent Soundtrack: I truly like this soundt...</td>\n",
       "    </tr>\n",
       "    <tr>\n",
       "      <th>4</th>\n",
       "      <td>2</td>\n",
       "      <td>Remember, Pull Your Jaw Off The Floor After He...</td>\n",
       "    </tr>\n",
       "    <tr>\n",
       "      <th>...</th>\n",
       "      <td>...</td>\n",
       "      <td>...</td>\n",
       "    </tr>\n",
       "    <tr>\n",
       "      <th>3599995</th>\n",
       "      <td>1</td>\n",
       "      <td>Don't do it!!: The high chair looks great when...</td>\n",
       "    </tr>\n",
       "    <tr>\n",
       "      <th>3599996</th>\n",
       "      <td>1</td>\n",
       "      <td>Looks nice, low functionality: I have used thi...</td>\n",
       "    </tr>\n",
       "    <tr>\n",
       "      <th>3599997</th>\n",
       "      <td>1</td>\n",
       "      <td>compact, but hard to clean: We have a small ho...</td>\n",
       "    </tr>\n",
       "    <tr>\n",
       "      <th>3599998</th>\n",
       "      <td>1</td>\n",
       "      <td>what is it saying?: not sure what this book is...</td>\n",
       "    </tr>\n",
       "    <tr>\n",
       "      <th>3599999</th>\n",
       "      <td>2</td>\n",
       "      <td>Makes My Blood Run Red-White-And-Blue: I agree...</td>\n",
       "    </tr>\n",
       "  </tbody>\n",
       "</table>\n",
       "<p>3600000 rows × 2 columns</p>\n",
       "</div>"
      ],
      "text/plain": [
       "         label                                               text\n",
       "0            2  Stuning even for the non-gamer: This sound tra...\n",
       "1            2  The best soundtrack ever to anything.: I'm rea...\n",
       "2            2  Amazing!: This soundtrack is my favorite music...\n",
       "3            2  Excellent Soundtrack: I truly like this soundt...\n",
       "4            2  Remember, Pull Your Jaw Off The Floor After He...\n",
       "...        ...                                                ...\n",
       "3599995      1  Don't do it!!: The high chair looks great when...\n",
       "3599996      1  Looks nice, low functionality: I have used thi...\n",
       "3599997      1  compact, but hard to clean: We have a small ho...\n",
       "3599998      1  what is it saying?: not sure what this book is...\n",
       "3599999      2  Makes My Blood Run Red-White-And-Blue: I agree...\n",
       "\n",
       "[3600000 rows x 2 columns]"
      ]
     },
     "execution_count": 4,
     "metadata": {},
     "output_type": "execute_result"
    }
   ],
   "source": [
    "train = parse_data('train.ft.txt')\n",
    "\n",
    "train"
   ]
  },
  {
   "cell_type": "code",
   "execution_count": 5,
   "metadata": {
    "execution": {
     "iopub.execute_input": "2024-08-20T18:24:21.107275Z",
     "iopub.status.busy": "2024-08-20T18:24:21.106890Z",
     "iopub.status.idle": "2024-08-20T18:24:21.258521Z",
     "shell.execute_reply": "2024-08-20T18:24:21.257356Z",
     "shell.execute_reply.started": "2024-08-20T18:24:21.107240Z"
    },
    "trusted": true
   },
   "outputs": [
    {
     "data": {
      "text/html": [
       "<div>\n",
       "<style scoped>\n",
       "    .dataframe tbody tr th:only-of-type {\n",
       "        vertical-align: middle;\n",
       "    }\n",
       "\n",
       "    .dataframe tbody tr th {\n",
       "        vertical-align: top;\n",
       "    }\n",
       "\n",
       "    .dataframe thead th {\n",
       "        text-align: right;\n",
       "    }\n",
       "</style>\n",
       "<table border=\"1\" class=\"dataframe\">\n",
       "  <thead>\n",
       "    <tr style=\"text-align: right;\">\n",
       "      <th></th>\n",
       "      <th>label</th>\n",
       "      <th>text</th>\n",
       "    </tr>\n",
       "  </thead>\n",
       "  <tbody>\n",
       "    <tr>\n",
       "      <th>0</th>\n",
       "      <td>0</td>\n",
       "      <td>Stuning even for the non-gamer: This sound tra...</td>\n",
       "    </tr>\n",
       "    <tr>\n",
       "      <th>1</th>\n",
       "      <td>0</td>\n",
       "      <td>The best soundtrack ever to anything.: I'm rea...</td>\n",
       "    </tr>\n",
       "    <tr>\n",
       "      <th>2</th>\n",
       "      <td>0</td>\n",
       "      <td>Amazing!: This soundtrack is my favorite music...</td>\n",
       "    </tr>\n",
       "    <tr>\n",
       "      <th>3</th>\n",
       "      <td>0</td>\n",
       "      <td>Excellent Soundtrack: I truly like this soundt...</td>\n",
       "    </tr>\n",
       "    <tr>\n",
       "      <th>4</th>\n",
       "      <td>0</td>\n",
       "      <td>Remember, Pull Your Jaw Off The Floor After He...</td>\n",
       "    </tr>\n",
       "    <tr>\n",
       "      <th>...</th>\n",
       "      <td>...</td>\n",
       "      <td>...</td>\n",
       "    </tr>\n",
       "    <tr>\n",
       "      <th>3599995</th>\n",
       "      <td>1</td>\n",
       "      <td>Don't do it!!: The high chair looks great when...</td>\n",
       "    </tr>\n",
       "    <tr>\n",
       "      <th>3599996</th>\n",
       "      <td>1</td>\n",
       "      <td>Looks nice, low functionality: I have used thi...</td>\n",
       "    </tr>\n",
       "    <tr>\n",
       "      <th>3599997</th>\n",
       "      <td>1</td>\n",
       "      <td>compact, but hard to clean: We have a small ho...</td>\n",
       "    </tr>\n",
       "    <tr>\n",
       "      <th>3599998</th>\n",
       "      <td>1</td>\n",
       "      <td>what is it saying?: not sure what this book is...</td>\n",
       "    </tr>\n",
       "    <tr>\n",
       "      <th>3599999</th>\n",
       "      <td>0</td>\n",
       "      <td>Makes My Blood Run Red-White-And-Blue: I agree...</td>\n",
       "    </tr>\n",
       "  </tbody>\n",
       "</table>\n",
       "<p>3600000 rows × 2 columns</p>\n",
       "</div>"
      ],
      "text/plain": [
       "         label                                               text\n",
       "0            0  Stuning even for the non-gamer: This sound tra...\n",
       "1            0  The best soundtrack ever to anything.: I'm rea...\n",
       "2            0  Amazing!: This soundtrack is my favorite music...\n",
       "3            0  Excellent Soundtrack: I truly like this soundt...\n",
       "4            0  Remember, Pull Your Jaw Off The Floor After He...\n",
       "...        ...                                                ...\n",
       "3599995      1  Don't do it!!: The high chair looks great when...\n",
       "3599996      1  Looks nice, low functionality: I have used thi...\n",
       "3599997      1  compact, but hard to clean: We have a small ho...\n",
       "3599998      1  what is it saying?: not sure what this book is...\n",
       "3599999      0  Makes My Blood Run Red-White-And-Blue: I agree...\n",
       "\n",
       "[3600000 rows x 2 columns]"
      ]
     },
     "execution_count": 5,
     "metadata": {},
     "output_type": "execute_result"
    }
   ],
   "source": [
    "df = train.copy()\n",
    "df.label = df.label.map({2:0, 1:1})  # 1 are negatives (targeted class)\n",
    "df"
   ]
  },
  {
   "cell_type": "code",
   "execution_count": 21,
   "metadata": {
    "execution": {
     "iopub.execute_input": "2024-08-20T18:32:05.437785Z",
     "iopub.status.busy": "2024-08-20T18:32:05.437186Z",
     "iopub.status.idle": "2024-08-20T18:32:05.451853Z",
     "shell.execute_reply": "2024-08-20T18:32:05.450878Z",
     "shell.execute_reply.started": "2024-08-20T18:32:05.437750Z"
    },
    "trusted": true
   },
   "outputs": [
    {
     "data": {
      "text/html": [
       "<div>\n",
       "<style scoped>\n",
       "    .dataframe tbody tr th:only-of-type {\n",
       "        vertical-align: middle;\n",
       "    }\n",
       "\n",
       "    .dataframe tbody tr th {\n",
       "        vertical-align: top;\n",
       "    }\n",
       "\n",
       "    .dataframe thead th {\n",
       "        text-align: right;\n",
       "    }\n",
       "</style>\n",
       "<table border=\"1\" class=\"dataframe\">\n",
       "  <thead>\n",
       "    <tr style=\"text-align: right;\">\n",
       "      <th></th>\n",
       "      <th>label</th>\n",
       "      <th>text</th>\n",
       "    </tr>\n",
       "  </thead>\n",
       "  <tbody>\n",
       "    <tr>\n",
       "      <th>0</th>\n",
       "      <td>0</td>\n",
       "      <td>Stuning even for the non-gamer: This sound tra...</td>\n",
       "    </tr>\n",
       "    <tr>\n",
       "      <th>1</th>\n",
       "      <td>0</td>\n",
       "      <td>The best soundtrack ever to anything.: I'm rea...</td>\n",
       "    </tr>\n",
       "    <tr>\n",
       "      <th>2</th>\n",
       "      <td>0</td>\n",
       "      <td>Amazing!: This soundtrack is my favorite music...</td>\n",
       "    </tr>\n",
       "    <tr>\n",
       "      <th>3</th>\n",
       "      <td>0</td>\n",
       "      <td>Excellent Soundtrack: I truly like this soundt...</td>\n",
       "    </tr>\n",
       "    <tr>\n",
       "      <th>4</th>\n",
       "      <td>0</td>\n",
       "      <td>Remember, Pull Your Jaw Off The Floor After He...</td>\n",
       "    </tr>\n",
       "    <tr>\n",
       "      <th>...</th>\n",
       "      <td>...</td>\n",
       "      <td>...</td>\n",
       "    </tr>\n",
       "    <tr>\n",
       "      <th>9995</th>\n",
       "      <td>0</td>\n",
       "      <td>A revelation of life in small town America in ...</td>\n",
       "    </tr>\n",
       "    <tr>\n",
       "      <th>9996</th>\n",
       "      <td>0</td>\n",
       "      <td>Great biography of a very interesting journali...</td>\n",
       "    </tr>\n",
       "    <tr>\n",
       "      <th>9997</th>\n",
       "      <td>1</td>\n",
       "      <td>Interesting Subject; Poor Presentation: You'd ...</td>\n",
       "    </tr>\n",
       "    <tr>\n",
       "      <th>9998</th>\n",
       "      <td>1</td>\n",
       "      <td>Don't buy: The box looked used and it is obvio...</td>\n",
       "    </tr>\n",
       "    <tr>\n",
       "      <th>9999</th>\n",
       "      <td>0</td>\n",
       "      <td>Beautiful Pen and Fast Delivery.: The pen was ...</td>\n",
       "    </tr>\n",
       "  </tbody>\n",
       "</table>\n",
       "<p>10000 rows × 2 columns</p>\n",
       "</div>"
      ],
      "text/plain": [
       "      label                                               text\n",
       "0         0  Stuning even for the non-gamer: This sound tra...\n",
       "1         0  The best soundtrack ever to anything.: I'm rea...\n",
       "2         0  Amazing!: This soundtrack is my favorite music...\n",
       "3         0  Excellent Soundtrack: I truly like this soundt...\n",
       "4         0  Remember, Pull Your Jaw Off The Floor After He...\n",
       "...     ...                                                ...\n",
       "9995      0  A revelation of life in small town America in ...\n",
       "9996      0  Great biography of a very interesting journali...\n",
       "9997      1  Interesting Subject; Poor Presentation: You'd ...\n",
       "9998      1  Don't buy: The box looked used and it is obvio...\n",
       "9999      0  Beautiful Pen and Fast Delivery.: The pen was ...\n",
       "\n",
       "[10000 rows x 2 columns]"
      ]
     },
     "execution_count": 21,
     "metadata": {},
     "output_type": "execute_result"
    }
   ],
   "source": [
    "# We're going to use only 10000 records from the data for faster training\n",
    "df = df[0:10000]\n",
    "df"
   ]
  },
  {
   "cell_type": "code",
   "execution_count": 22,
   "metadata": {
    "execution": {
     "iopub.execute_input": "2024-08-20T18:32:07.230155Z",
     "iopub.status.busy": "2024-08-20T18:32:07.229391Z",
     "iopub.status.idle": "2024-08-20T18:32:07.245350Z",
     "shell.execute_reply": "2024-08-20T18:32:07.244438Z",
     "shell.execute_reply.started": "2024-08-20T18:32:07.230123Z"
    },
    "trusted": true
   },
   "outputs": [
    {
     "name": "stdout",
     "output_type": "stream",
     "text": [
      "<class 'pandas.core.frame.DataFrame'>\n",
      "RangeIndex: 10000 entries, 0 to 9999\n",
      "Data columns (total 2 columns):\n",
      " #   Column  Non-Null Count  Dtype \n",
      "---  ------  --------------  ----- \n",
      " 0   label   10000 non-null  int64 \n",
      " 1   text    10000 non-null  object\n",
      "dtypes: int64(1), object(1)\n",
      "memory usage: 156.4+ KB\n"
     ]
    }
   ],
   "source": [
    "df.info()"
   ]
  },
  {
   "cell_type": "code",
   "execution_count": 23,
   "metadata": {
    "execution": {
     "iopub.execute_input": "2024-08-20T18:32:07.454695Z",
     "iopub.status.busy": "2024-08-20T18:32:07.454064Z",
     "iopub.status.idle": "2024-08-20T18:32:07.607805Z",
     "shell.execute_reply": "2024-08-20T18:32:07.606799Z",
     "shell.execute_reply.started": "2024-08-20T18:32:07.454663Z"
    },
    "trusted": true
   },
   "outputs": [
    {
     "name": "stdout",
     "output_type": "stream",
     "text": [
      "label\n",
      "1    5097\n",
      "0    4903\n",
      "Name: count, dtype: int64\n"
     ]
    },
    {
     "data": {
      "text/plain": [
       "<Axes: xlabel='label'>"
      ]
     },
     "execution_count": 23,
     "metadata": {},
     "output_type": "execute_result"
    },
    {
     "data": {
      "image/png": "[encoded data removed]",
      "text/plain": [
       "<Figure size 640x480 with 1 Axes>"
      ]
     },
     "metadata": {},
     "output_type": "display_data"
    }
   ],
   "source": [
    "# Data is balanced\n",
    "print(df['label'].value_counts())\n",
    "df['label'].value_counts().plot(kind='bar')"
   ]
  },
  {
   "cell_type": "markdown",
   "metadata": {},
   "source": [
    "## Model Training"
   ]
  },
  {
   "cell_type": "code",
   "execution_count": 24,
   "metadata": {
    "execution": {
     "iopub.execute_input": "2024-08-20T18:32:08.067814Z",
     "iopub.status.busy": "2024-08-20T18:32:08.067470Z",
     "iopub.status.idle": "2024-08-20T18:32:08.074507Z",
     "shell.execute_reply": "2024-08-20T18:32:08.073193Z",
     "shell.execute_reply.started": "2024-08-20T18:32:08.067788Z"
    },
    "trusted": true
   },
   "outputs": [],
   "source": [
    "import numpy as np\n",
    "from sklearn.model_selection import train_test_split\n",
    "from sklearn.metrics import accuracy_score, recall_score, precision_score, f1_score\n",
    "import torch\n",
    "from transformers import TrainingArguments, Trainer\n",
    "from transformers import BertTokenizer, BertForSequenceClassification"
   ]
  },
  {
   "cell_type": "code",
   "execution_count": null,
   "metadata": {
    "trusted": true
   },
   "outputs": [],
   "source": [
    "from transformers import BertTokenizer, BertForSequenceClassification\n",
    "tokenizer = BertTokenizer.from_pretrained('bert-base-uncased')\n",
    "model = BertForSequenceClassification.from_pretrained('bert-base-uncased',num_labels=2)"
   ]
  },
  {
   "cell_type": "code",
   "execution_count": 26,
   "metadata": {
    "execution": {
     "iopub.execute_input": "2024-08-20T18:32:11.721789Z",
     "iopub.status.busy": "2024-08-20T18:32:11.720986Z",
     "iopub.status.idle": "2024-08-20T18:32:41.094790Z",
     "shell.execute_reply": "2024-08-20T18:32:41.093783Z",
     "shell.execute_reply.started": "2024-08-20T18:32:11.721759Z"
    },
    "trusted": true
   },
   "outputs": [],
   "source": [
    "X = list(df[\"text\"])\n",
    "y = list(df[\"label\"])\n",
    "\n",
    "X_train, X_test, y_train, y_test = train_test_split(X, y, test_size=0.2,stratify=y)\n",
    "\n",
    "X_train_tokenized = tokenizer(X_train, padding=True, truncation=True, max_length=512)\n",
    "X_test_tokenized = tokenizer(X_test, padding=True, truncation=True, max_length=512)"
   ]
  },
  {
   "cell_type": "code",
   "execution_count": 27,
   "metadata": {
    "execution": {
     "iopub.execute_input": "2024-08-20T18:32:48.345925Z",
     "iopub.status.busy": "2024-08-20T18:32:48.345308Z",
     "iopub.status.idle": "2024-08-20T18:32:48.354016Z",
     "shell.execute_reply": "2024-08-20T18:32:48.352992Z",
     "shell.execute_reply.started": "2024-08-20T18:32:48.345894Z"
    },
    "trusted": true
   },
   "outputs": [],
   "source": [
    "# Converting X and y into Pytorch Dataset (as transformers accept data in that format)\n",
    "\n",
    "class Dataset(torch.utils.data.Dataset):\n",
    "    def __init__(self, encodings, labels=None):\n",
    "        self.encodings = encodings\n",
    "        self.labels = labels\n",
    "\n",
    "# This method is used to retrieve a single sample from the dataset.\n",
    "    def __getitem__(self, idx):\n",
    "        item = {key: torch.tensor(val[idx]) for key, val in self.encodings.items()}\n",
    "        if self.labels:\n",
    "            item[\"labels\"] = torch.tensor(self.labels[idx])\n",
    "        return item\n",
    "\n",
    "    def __len__(self):\n",
    "        return len(self.encodings[\"input_ids\"])"
   ]
  },
  {
   "cell_type": "markdown",
   "metadata": {},
   "source": [
    "* encodings: A dictionary where each key corresponds to an input feature (e.g., \"input_ids\", \"attention_mask\", etc.). Each value is a list or array of encoded inputs."
   ]
  },
  {
   "cell_type": "code",
   "execution_count": 28,
   "metadata": {
    "execution": {
     "iopub.execute_input": "2024-08-20T18:32:49.961013Z",
     "iopub.status.busy": "2024-08-20T18:32:49.960341Z",
     "iopub.status.idle": "2024-08-20T18:32:49.966711Z",
     "shell.execute_reply": "2024-08-20T18:32:49.965515Z",
     "shell.execute_reply.started": "2024-08-20T18:32:49.960977Z"
    },
    "trusted": true
   },
   "outputs": [],
   "source": [
    "train_dataset = Dataset(X_train_tokenized, y_train)\n",
    "test_dataset = Dataset(X_test_tokenized, y_test)"
   ]
  },
  {
   "cell_type": "code",
   "execution_count": 29,
   "metadata": {
    "execution": {
     "iopub.execute_input": "2024-08-20T18:32:53.057485Z",
     "iopub.status.busy": "2024-08-20T18:32:53.056479Z",
     "iopub.status.idle": "2024-08-20T18:32:53.074906Z",
     "shell.execute_reply": "2024-08-20T18:32:53.074026Z",
     "shell.execute_reply.started": "2024-08-20T18:32:53.057421Z"
    },
    "trusted": true
   },
   "outputs": [
    {
     "data": {
      "text/plain": [
       "{'input_ids': tensor([  101,  8632,  1997, 18015,  1011,  3828,  2115,  2769,   999,  1024,\n",
       "          1996,  2034,  2028,  1045,  2363,  1996, 17371,  4003, 10453,  5843,\n",
       "          2106,  2025,  2147,  1012,  1996,  2117,  2028,  6719,  2165,  1019,\n",
       "          2000,  2184,  2781,  2000,  9573,  2039,  1012,  1045,  2513,  2009,\n",
       "          2153,  2000, 19575,  8894,  1006,  9733, 14939,  1007,  1998,  2027,\n",
       "          2056,  2027,  2052,  2025,  3715,  2033,  1996,  2321,  1003,  2717,\n",
       "          7432,  2075,  7408,  2029,  2027,  2106,  2151, 14406,  1012,  2035,\n",
       "          1999,  2035,  1010,  1045,  2876,  1005,  1056,  2219,  2178,  5472,\n",
       "         20573, 23378,  2130,  2065,  2027,  2052,  2507,  2033,  2028,  2005,\n",
       "          2489,   999,  1045,  1005,  1049,  2041,  1002,  2184,  1012,  4002,\n",
       "          2005,  2048,  2709, 24636,  1998,  2178,  1002,  2184,  1012,  4002,\n",
       "          2717,  7432,  2075,  7408,  1012,  2498,  2000,  2717,  7432,  2012,\n",
       "         19575,  8894,  1010,  4604,  1996,  3538,  1997, 18015,  2067,  2000,\n",
       "          5472, 20573,   999,   999,   999,  3828,  2070, 14978,  2015,  1998,\n",
       "          4965,  2242,  2367,   999,  2079,  1037,  8224,  3945,  2005, 20344,\n",
       "          2050,  3193,  4030,  2707,  2039,  1010,  9573,  1010,  2030,  5843,\n",
       "          6279,  1012,  2012,  2560,  1996,  4718,  2557,  2001,  3835,  1012,\n",
       "          1012,  1012,  1012,  2008,  1005,  1055,  2339,  2009,  2038,  1037,\n",
       "          2048,  2732,  5790,  1012,  1045,  1005,  1040,  2469,  5223,  2000,\n",
       "          2156,  2129,  2092,  1996,  2128,  1011,  7609,  3197,  2147,  1012,\n",
       "           102,     0,     0,     0,     0,     0,     0,     0,     0,     0,\n",
       "             0,     0,     0,     0,     0,     0,     0,     0,     0,     0,\n",
       "             0,     0,     0,     0,     0,     0,     0,     0,     0,     0,\n",
       "             0,     0,     0,     0,     0,     0,     0,     0,     0,     0,\n",
       "             0,     0,     0,     0,     0,     0,     0,     0,     0,     0,\n",
       "             0,     0,     0,     0,     0,     0,     0,     0,     0,     0,\n",
       "             0,     0,     0,     0,     0,     0,     0,     0,     0,     0,\n",
       "             0,     0,     0,     0,     0,     0,     0,     0,     0,     0,\n",
       "             0,     0,     0,     0,     0,     0,     0,     0,     0]),\n",
       " 'token_type_ids': tensor([0, 0, 0, 0, 0, 0, 0, 0, 0, 0, 0, 0, 0, 0, 0, 0, 0, 0, 0, 0, 0, 0, 0, 0,\n",
       "         0, 0, 0, 0, 0, 0, 0, 0, 0, 0, 0, 0, 0, 0, 0, 0, 0, 0, 0, 0, 0, 0, 0, 0,\n",
       "         0, 0, 0, 0, 0, 0, 0, 0, 0, 0, 0, 0, 0, 0, 0, 0, 0, 0, 0, 0, 0, 0, 0, 0,\n",
       "         0, 0, 0, 0, 0, 0, 0, 0, 0, 0, 0, 0, 0, 0, 0, 0, 0, 0, 0, 0, 0, 0, 0, 0,\n",
       "         0, 0, 0, 0, 0, 0, 0, 0, 0, 0, 0, 0, 0, 0, 0, 0, 0, 0, 0, 0, 0, 0, 0, 0,\n",
       "         0, 0, 0, 0, 0, 0, 0, 0, 0, 0, 0, 0, 0, 0, 0, 0, 0, 0, 0, 0, 0, 0, 0, 0,\n",
       "         0, 0, 0, 0, 0, 0, 0, 0, 0, 0, 0, 0, 0, 0, 0, 0, 0, 0, 0, 0, 0, 0, 0, 0,\n",
       "         0, 0, 0, 0, 0, 0, 0, 0, 0, 0, 0, 0, 0, 0, 0, 0, 0, 0, 0, 0, 0, 0, 0, 0,\n",
       "         0, 0, 0, 0, 0, 0, 0, 0, 0, 0, 0, 0, 0, 0, 0, 0, 0, 0, 0, 0, 0, 0, 0, 0,\n",
       "         0, 0, 0, 0, 0, 0, 0, 0, 0, 0, 0, 0, 0, 0, 0, 0, 0, 0, 0, 0, 0, 0, 0, 0,\n",
       "         0, 0, 0, 0, 0, 0, 0, 0, 0, 0, 0, 0, 0, 0, 0, 0, 0, 0, 0, 0, 0, 0, 0, 0,\n",
       "         0, 0, 0, 0, 0, 0, 0, 0, 0, 0, 0, 0, 0, 0, 0, 0, 0, 0, 0, 0, 0, 0, 0, 0,\n",
       "         0]),\n",
       " 'attention_mask': tensor([1, 1, 1, 1, 1, 1, 1, 1, 1, 1, 1, 1, 1, 1, 1, 1, 1, 1, 1, 1, 1, 1, 1, 1,\n",
       "         1, 1, 1, 1, 1, 1, 1, 1, 1, 1, 1, 1, 1, 1, 1, 1, 1, 1, 1, 1, 1, 1, 1, 1,\n",
       "         1, 1, 1, 1, 1, 1, 1, 1, 1, 1, 1, 1, 1, 1, 1, 1, 1, 1, 1, 1, 1, 1, 1, 1,\n",
       "         1, 1, 1, 1, 1, 1, 1, 1, 1, 1, 1, 1, 1, 1, 1, 1, 1, 1, 1, 1, 1, 1, 1, 1,\n",
       "         1, 1, 1, 1, 1, 1, 1, 1, 1, 1, 1, 1, 1, 1, 1, 1, 1, 1, 1, 1, 1, 1, 1, 1,\n",
       "         1, 1, 1, 1, 1, 1, 1, 1, 1, 1, 1, 1, 1, 1, 1, 1, 1, 1, 1, 1, 1, 1, 1, 1,\n",
       "         1, 1, 1, 1, 1, 1, 1, 1, 1, 1, 1, 1, 1, 1, 1, 1, 1, 1, 1, 1, 1, 1, 1, 1,\n",
       "         1, 1, 1, 1, 1, 1, 1, 1, 1, 1, 1, 1, 1, 1, 1, 1, 1, 1, 1, 1, 1, 1, 1, 1,\n",
       "         1, 1, 1, 1, 1, 1, 1, 1, 1, 0, 0, 0, 0, 0, 0, 0, 0, 0, 0, 0, 0, 0, 0, 0,\n",
       "         0, 0, 0, 0, 0, 0, 0, 0, 0, 0, 0, 0, 0, 0, 0, 0, 0, 0, 0, 0, 0, 0, 0, 0,\n",
       "         0, 0, 0, 0, 0, 0, 0, 0, 0, 0, 0, 0, 0, 0, 0, 0, 0, 0, 0, 0, 0, 0, 0, 0,\n",
       "         0, 0, 0, 0, 0, 0, 0, 0, 0, 0, 0, 0, 0, 0, 0, 0, 0, 0, 0, 0, 0, 0, 0, 0,\n",
       "         0]),\n",
       " 'labels': tensor(1)}"
      ]
     },
     "execution_count": 29,
     "metadata": {},
     "output_type": "execute_result"
    }
   ],
   "source": [
    "train_dataset[3]"
   ]
  },
  {
   "cell_type": "code",
   "execution_count": 30,
   "metadata": {
    "execution": {
     "iopub.execute_input": "2024-08-20T18:32:55.057214Z",
     "iopub.status.busy": "2024-08-20T18:32:55.056522Z",
     "iopub.status.idle": "2024-08-20T18:32:55.064678Z",
     "shell.execute_reply": "2024-08-20T18:32:55.063621Z",
     "shell.execute_reply.started": "2024-08-20T18:32:55.057183Z"
    },
    "trusted": true
   },
   "outputs": [],
   "source": [
    "def compute_metrics(p):\n",
    "    pred, labels = p\n",
    "    pred = np.argmax(pred, axis=1)\n",
    "\n",
    "    accuracy = accuracy_score(y_true=labels, y_pred=pred)\n",
    "    recall = recall_score(y_true=labels, y_pred=pred)\n",
    "    precision = precision_score(y_true=labels, y_pred=pred)\n",
    "    f1 = f1_score(y_true=labels, y_pred=pred)\n",
    "\n",
    "    return {\"accuracy\": accuracy, \"precision\": precision, \"recall\": recall, \"f1\": f1}"
   ]
  },
  {
   "cell_type": "code",
   "execution_count": 31,
   "metadata": {
    "execution": {
     "iopub.execute_input": "2024-08-20T18:32:57.117805Z",
     "iopub.status.busy": "2024-08-20T18:32:57.117172Z",
     "iopub.status.idle": "2024-08-20T18:32:57.307000Z",
     "shell.execute_reply": "2024-08-20T18:32:57.305919Z",
     "shell.execute_reply.started": "2024-08-20T18:32:57.117773Z"
    },
    "trusted": true
   },
   "outputs": [],
   "source": [
    "# Define Trainer\n",
    "\n",
    "args = TrainingArguments(\n",
    "    output_dir=\"output\",\n",
    "    num_train_epochs=1,\n",
    "    per_device_train_batch_size=8\n",
    "\n",
    ")\n",
    "trainer = Trainer(\n",
    "    model=model,\n",
    "    args=args,\n",
    "    train_dataset=train_dataset,\n",
    "    eval_dataset=test_dataset,\n",
    "    compute_metrics=compute_metrics\n",
    ")"
   ]
  },
  {
   "cell_type": "code",
   "execution_count": 32,
   "metadata": {
    "execution": {
     "iopub.execute_input": "2024-08-20T18:32:59.709427Z",
     "iopub.status.busy": "2024-08-20T18:32:59.708776Z",
     "iopub.status.idle": "2024-08-20T18:37:35.613752Z",
     "shell.execute_reply": "2024-08-20T18:37:35.613033Z",
     "shell.execute_reply.started": "2024-08-20T18:32:59.709384Z"
    },
    "trusted": true
   },
   "outputs": [
    {
     "data": {
      "text/html": [
       "\n",
       "    <div>\n",
       "      \n",
       "      <progress value='1000' max='1000' style='width:300px; height:20px; vertical-align: middle;'></progress>\n",
       "      [1000/1000 04:34, Epoch 1/1]\n",
       "    </div>\n",
       "    <table border=\"1\" class=\"dataframe\">\n",
       "  <thead>\n",
       " <tr style=\"text-align: left;\">\n",
       "      <th>Step</th>\n",
       "      <th>Training Loss</th>\n",
       "    </tr>\n",
       "  </thead>\n",
       "  <tbody>\n",
       "    <tr>\n",
       "      <td>500</td>\n",
       "      <td>0.318500</td>\n",
       "    </tr>\n",
       "    <tr>\n",
       "      <td>1000</td>\n",
       "      <td>0.254300</td>\n",
       "    </tr>\n",
       "  </tbody>\n",
       "</table><p>"
      ],
      "text/plain": [
       "<IPython.core.display.HTML object>"
      ]
     },
     "metadata": {},
     "output_type": "display_data"
    },
    {
     "data": {
      "text/plain": [
       "TrainOutput(global_step=1000, training_loss=0.2863903961181641, metrics={'train_runtime': 275.2322, 'train_samples_per_second': 29.066, 'train_steps_per_second': 3.633, 'total_flos': 1188110859360000.0, 'train_loss': 0.2863903961181641, 'epoch': 1.0})"
      ]
     },
     "execution_count": 32,
     "metadata": {},
     "output_type": "execute_result"
    }
   ],
   "source": [
    "trainer.train()"
   ]
  },
  {
   "cell_type": "markdown",
   "metadata": {},
   "source": [
    "## Performance Metrics"
   ]
  },
  {
   "cell_type": "code",
   "execution_count": 33,
   "metadata": {
    "execution": {
     "iopub.execute_input": "2024-08-20T18:40:13.229635Z",
     "iopub.status.busy": "2024-08-20T18:40:13.229000Z",
     "iopub.status.idle": "2024-08-20T18:40:39.011938Z",
     "shell.execute_reply": "2024-08-20T18:40:39.011033Z",
     "shell.execute_reply.started": "2024-08-20T18:40:13.229598Z"
    },
    "trusted": true
   },
   "outputs": [
    {
     "data": {
      "text/html": [
       "\n",
       "    <div>\n",
       "      \n",
       "      <progress value='250' max='250' style='width:300px; height:20px; vertical-align: middle;'></progress>\n",
       "      [250/250 00:25]\n",
       "    </div>\n",
       "    "
      ],
      "text/plain": [
       "<IPython.core.display.HTML object>"
      ]
     },
     "metadata": {},
     "output_type": "display_data"
    },
    {
     "data": {
      "text/plain": [
       "{'eval_loss': 0.22056439518928528,\n",
       " 'eval_accuracy': 0.9455,\n",
       " 'eval_precision': 0.9496047430830039,\n",
       " 'eval_recall': 0.943081452404318,\n",
       " 'eval_f1': 0.9463318562284588,\n",
       " 'eval_runtime': 25.7721,\n",
       " 'eval_samples_per_second': 77.603,\n",
       " 'eval_steps_per_second': 9.7,\n",
       " 'epoch': 1.0}"
      ]
     },
     "execution_count": 33,
     "metadata": {},
     "output_type": "execute_result"
    }
   ],
   "source": [
    "trainer.evaluate()"
   ]
  },
  {
   "cell_type": "markdown",
   "metadata": {},
   "source": [
    "## Testing Model"
   ]
  },
  {
   "cell_type": "code",
   "execution_count": 35,
   "metadata": {
    "execution": {
     "iopub.execute_input": "2024-08-20T18:40:59.572252Z",
     "iopub.status.busy": "2024-08-20T18:40:59.571588Z",
     "iopub.status.idle": "2024-08-20T18:40:59.597694Z",
     "shell.execute_reply": "2024-08-20T18:40:59.596801Z",
     "shell.execute_reply.started": "2024-08-20T18:40:59.572217Z"
    },
    "trusted": true
   },
   "outputs": [
    {
     "name": "stdout",
     "output_type": "stream",
     "text": [
      "[[0.99762744 0.00237252]]\n",
      "Positive\n"
     ]
    }
   ],
   "source": [
    "def classify_text(text, model, tokenizer):\n",
    "    # Tokenize the input text and move it to the GPU\n",
    "    inputs = tokenizer(text, padding=True, truncation=True, return_tensors='pt').to('cuda')\n",
    "    \n",
    "    # Get model outputs\n",
    "    outputs = model(**inputs)\n",
    "    \n",
    "    # Apply softmax to the logits to get probabilities\n",
    "    predictions = torch.nn.functional.softmax(outputs.logits, dim=-1)\n",
    "    \n",
    "    # Move the predictions back to CPU and convert to numpy array\n",
    "    predictions = predictions.cpu().detach().numpy()\n",
    "    \n",
    "    # Print the predictions\n",
    "    print(predictions)\n",
    "    \n",
    "    # Check the first index and print the corresponding label\n",
    "    if predictions[0][0] > 0.5:\n",
    "        print(\"Positive\")\n",
    "    else:\n",
    "        print(\"Negative\")\n",
    "    \n",
    "    return predictions\n",
    "\n",
    "predictions = classify_text(\"The mobile is awesome\", model, tokenizer)"
   ]
  },
  {
   "cell_type": "code",
   "execution_count": 37,
   "metadata": {
    "execution": {
     "iopub.execute_input": "2024-08-20T18:41:45.224109Z",
     "iopub.status.busy": "2024-08-20T18:41:45.223451Z",
     "iopub.status.idle": "2024-08-20T18:41:45.245570Z",
     "shell.execute_reply": "2024-08-20T18:41:45.244683Z",
     "shell.execute_reply.started": "2024-08-20T18:41:45.224075Z"
    },
    "trusted": true
   },
   "outputs": [
    {
     "name": "stdout",
     "output_type": "stream",
     "text": [
      "[[0.00194693 0.9980531 ]]\n",
      "Negative\n"
     ]
    }
   ],
   "source": [
    "predictions = classify_text(\"The mobile is bad\", model, tokenizer)"
   ]
  },
  {
   "cell_type": "code",
   "execution_count": 39,
   "metadata": {
    "execution": {
     "iopub.execute_input": "2024-08-20T18:44:47.746010Z",
     "iopub.status.busy": "2024-08-20T18:44:47.745629Z",
     "iopub.status.idle": "2024-08-20T18:44:47.775071Z",
     "shell.execute_reply": "2024-08-20T18:44:47.774151Z",
     "shell.execute_reply.started": "2024-08-20T18:44:47.745978Z"
    },
    "trusted": true
   },
   "outputs": [
    {
     "name": "stdout",
     "output_type": "stream",
     "text": [
      "[[0.00431075 0.9956892 ]]\n",
      "Negative\n"
     ]
    }
   ],
   "source": [
    "predictions = classify_text(\"\"\"After purchasing such an expensive item we do not expect such damaged item box. \n",
    "The box was damaged in various places and had tape applied on the front. I don't know whether the damage was\n",
    "due to the box falling or not. I am also confused whether the box and PS5 might have suffered any damage due to the fall. \n",
    "I am not satisfied. You have to give proper box packing without any damage.\"\"\", model, tokenizer)"
   ]
  }
 ],
 "metadata": {
  "kernelspec": {
   "display_name": "Python 3",
   "language": "python",
   "name": "python3"
  },
  "language_info": {
   "codemirror_mode": {
    "name": "ipython",
    "version": 3
   },
   "file_extension": ".py",
   "mimetype": "text/x-python",
   "name": "python",
   "nbconvert_exporter": "python",
   "pygments_lexer": "ipython3",
   "version": "3.9.13"
  }
 },
 "nbformat": 4,
 "nbformat_minor": 4
}
